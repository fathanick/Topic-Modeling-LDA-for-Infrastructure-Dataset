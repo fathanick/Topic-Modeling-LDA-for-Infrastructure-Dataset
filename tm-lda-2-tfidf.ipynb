{
 "cells": [
  {
   "cell_type": "code",
   "execution_count": 30,
   "metadata": {
    "collapsed": true
   },
   "outputs": [],
   "source": [
    "from helper import *"
   ]
  },
  {
   "cell_type": "code",
   "execution_count": 31,
   "metadata": {
    "collapsed": true
   },
   "outputs": [],
   "source": [
    "import warnings\n",
    "warnings.filterwarnings('ignore')"
   ]
  },
  {
   "cell_type": "code",
   "execution_count": 32,
   "metadata": {
    "collapsed": true
   },
   "outputs": [],
   "source": [
    "def cleaning(str):\n",
    "    str = str\n",
    "    return str"
   ]
  },
  {
   "cell_type": "code",
   "execution_count": 33,
   "metadata": {},
   "outputs": [
    {
     "name": "stdout",
     "output_type": "stream",
     "text": [
      "4914\n"
     ]
    }
   ],
   "source": [
    "import pandas as pd\n",
    "from numpy import array\n",
    "\n",
    "fo = pd.ExcelFile('news.xlsx')\n",
    "df = pd.read_excel(fo, 'Sheet1')\n",
    "\n",
    "data = df.head(5)\n",
    "\n",
    "text = df['text']\n",
    "text_list =  [i.split() for i in text]\n",
    "print(len(text_list))\n",
    "#print(text_list)"
   ]
  },
  {
   "cell_type": "code",
   "execution_count": 34,
   "metadata": {
    "collapsed": true
   },
   "outputs": [],
   "source": [
    "#Create Biagram & Trigram Models \n",
    "from gensim.models import Phrases\n",
    "# Add bigrams and trigrams to docs,minimum count 10 means only that appear 10 times or more.\n",
    "bigram = Phrases(text_list, min_count=10)\n",
    "trigram = Phrases(bigram[text_list])\n",
    "\n",
    "for idx in range(len(text_list)):\n",
    "    for token in bigram[text_list[idx]]:\n",
    "        if '_' in token:\n",
    "            # Token is a bigram, add to document.\n",
    "            text_list[idx].append(token)\n",
    "    for token in trigram[text_list[idx]]:\n",
    "        if '_' in token:\n",
    "            # Token is a bigram, add to document.\n",
    "            text_list[idx].append(token)\n"
   ]
  },
  {
   "cell_type": "code",
   "execution_count": 35,
   "metadata": {},
   "outputs": [
    {
     "name": "stdout",
     "output_type": "stream",
     "text": [
      "Dictionary(3517 unique tokens: ['air', 'axiata', 'baik', 'berbagai', 'berkualitas']...)\n"
     ]
    }
   ],
   "source": [
    "from gensim import corpora, models\n",
    "# Create a dictionary representation of the documents.\n",
    "dictionary = corpora.Dictionary(text_list)\n",
    "dictionary.filter_extremes(no_below=5, no_above=0.2)\n",
    "print(dictionary)"
   ]
  },
  {
   "cell_type": "code",
   "execution_count": 36,
   "metadata": {},
   "outputs": [
    {
     "name": "stdout",
     "output_type": "stream",
     "text": [
      "4914\n",
      "[(55, 1), (101, 1), (105, 1), (154, 1), (533, 1), (741, 1), (742, 1), (743, 1), (744, 1), (745, 1)]\n"
     ]
    }
   ],
   "source": [
    "#build corpus\n",
    "doc_term_matrix = [dictionary.doc2bow(doc) for doc in text_list]\n",
    "\n",
    "print(len(doc_term_matrix))\n",
    "print(doc_term_matrix[100])\n",
    "\n",
    "tfidf = models.TfidfModel(doc_term_matrix)\n",
    "corpus_tfidf = tfidf[doc_term_matrix]"
   ]
  },
  {
   "cell_type": "code",
   "execution_count": 37,
   "metadata": {
    "collapsed": true
   },
   "outputs": [],
   "source": [
    "from gensim.models.coherencemodel import CoherenceModel\n",
    "from gensim.models.ldamodel import LdaModel\n",
    "from gensim.corpora.dictionary import Dictionary\n",
    "from numpy import array\n",
    "#function to compute coherence values\n",
    "def compute_coherence_values(dictionary, corpus, texts, limit, start, step):\n",
    "    coherence_values = []\n",
    "    model_list = []\n",
    "    for num_topics in range(start, limit, step):\n",
    "        model = LdaModel(corpus=corpus, id2word=dictionary, num_topics=num_topics, iterations=100)\n",
    "        model_list.append(model)\n",
    "        coherencemodel = CoherenceModel(model=model, texts=texts, dictionary=dictionary, coherence='c_v')\n",
    "        coherence_values.append(coherencemodel.get_coherence())\n",
    "        \n",
    "    return model_list, coherence_values"
   ]
  },
  {
   "cell_type": "code",
   "execution_count": 38,
   "metadata": {},
   "outputs": [
    {
     "data": {
      "image/png": "[encoded data removed]",
      "text/plain": [
       "<matplotlib.figure.Figure at 0x24ca930be48>"
      ]
     },
     "metadata": {},
     "output_type": "display_data"
    }
   ],
   "source": [
    "start=5\n",
    "limit=51\n",
    "step=5\n",
    "model_list, coherence_values = compute_coherence_values(dictionary, corpus=corpus_tfidf, \n",
    "                                                        texts=text_list, start=start, limit=limit, step=step)\n",
    "#show graphs\n",
    "import matplotlib.pyplot as plt\n",
    "x = range(start, limit, step)\n",
    "plt.plot(x, coherence_values)\n",
    "plt.xlabel(\"Num Topics\")\n",
    "plt.ylabel(\"Coherence score\")\n",
    "plt.legend((\"coherence_values\"), loc='best')\n",
    "plt.show()"
   ]
  },
  {
   "cell_type": "code",
   "execution_count": 39,
   "metadata": {
    "scrolled": true
   },
   "outputs": [
    {
     "name": "stdout",
     "output_type": "stream",
     "text": [
      "Num Topics = 5  has Coherence Value of 0.5036\n",
      "Num Topics = 10  has Coherence Value of 0.5083\n",
      "Num Topics = 15  has Coherence Value of 0.5689\n",
      "Num Topics = 20  has Coherence Value of 0.5594\n",
      "Num Topics = 25  has Coherence Value of 0.5582\n",
      "Num Topics = 30  has Coherence Value of 0.5662\n",
      "Num Topics = 35  has Coherence Value of 0.5589\n",
      "Num Topics = 40  has Coherence Value of 0.5709\n",
      "Num Topics = 45  has Coherence Value of 0.569\n",
      "Num Topics = 50  has Coherence Value of 0.5705\n"
     ]
    }
   ],
   "source": [
    "# Print the coherence scores\n",
    "for m, cv in zip(x, coherence_values):\n",
    "    print(\"Num Topics =\", m, \" has Coherence Value of\", round(cv, 4))"
   ]
  },
  {
   "cell_type": "code",
   "execution_count": 48,
   "metadata": {},
   "outputs": [
    {
     "name": "stdout",
     "output_type": "stream",
     "text": [
      "[(7,\n",
      "  '0.061*\"pertamina\" + 0.028*\"mrt\" + 0.021*\"perseroan\" + 0.016*\"november\" + '\n",
      "  '0.015*\"struktur\" + 0.011*\"kementerian_keuangan\" + 0.011*\"jalan_tol\" + '\n",
      "  '0.010*\"bahan_bakar\" + 0.009*\"dana\" + 0.009*\"koordinasi\"'),\n",
      " (19,\n",
      "  '0.031*\"sepanjang_kilometer\" + 0.026*\"jalan_tol\" + 0.017*\"manufaktur\" + '\n",
      "  '0.015*\"bengkulu\" + 0.014*\"tol\" + 0.014*\"sepanjang\" + 0.013*\"badan_pengatur\" '\n",
      "  '+ 0.012*\"kilometer\" + 0.011*\"kuala_tanjung\" + 0.009*\"rekomendasi\"'),\n",
      " (11,\n",
      "  '0.029*\"investasi_sektor\" + 0.023*\"kementerian_bumn\" + 0.015*\"bali_utara\" + '\n",
      "  '0.014*\"pita_lebar\" + 0.013*\"pembangunan_infrastruktur\" + 0.012*\"bali\" + '\n",
      "  '0.011*\"investasi\" + 0.011*\"serat_optik\" + 0.010*\"pesawat\" + '\n",
      "  '0.009*\"program_pita\"'),\n",
      " (4,\n",
      "  '0.053*\"holding\" + 0.034*\"holding_bumn\" + 0.023*\"lrt_palembang\" + '\n",
      "  '0.015*\"bumn\" + 0.012*\"mnc_play\" + 0.012*\"pgn\" + 0.011*\"pembentukan_holding\" '\n",
      "  '+ 0.010*\"direktur_utama\" + 0.009*\"mnc\" + 0.009*\"direktur\"'),\n",
      " (6,\n",
      "  '0.028*\"harga_gas\" + 0.024*\"nilai_investasi\" + 0.021*\"harga\" + '\n",
      "  '0.020*\"pelaksana_proyek\" + 0.015*\"miliar\" + 0.015*\"tuntas\" + 0.013*\"unit\" + '\n",
      "  '0.012*\"iklim\" + 0.009*\"buruk\" + 0.009*\"investasi\"'),\n",
      " (38,\n",
      "  '0.024*\"pemegang_saham\" + 0.014*\"menuju_karimunjawa\" + 0.013*\"negara_negara\" '\n",
      "  '+ 0.013*\"saham\" + 0.012*\"waktu_tempuh\" + 0.011*\"anak_perusahaan\" + '\n",
      "  '0.011*\"angkut\" + 0.011*\"kepulauan_karimunjawa\" + 0.011*\"kepulauan\" + '\n",
      "  '0.010*\"msi\"'),\n",
      " (16,\n",
      "  '0.021*\"akhir_tahun\" + 0.018*\"sepanjang_meter\" + 0.015*\"terkoneksi\" + '\n",
      "  '0.013*\"bertahun_tahun\" + 0.012*\"meter\" + 0.010*\"penetapan\" + '\n",
      "  '0.010*\"jaringan_telekomunikasi\" + 0.010*\"bandara\" + 0.009*\"moeldoko\" + '\n",
      "  '0.009*\"menerapkan\"'),\n",
      " (37,\n",
      "  '0.029*\"penerbangan\" + 0.026*\"pemalang_batang\" + 0.018*\"produk\" + '\n",
      "  '0.017*\"penerbangan_perdana\" + 0.015*\"jangka_panjang\" + '\n",
      "  '0.015*\"ditargetkan_beroperasi\" + 0.015*\"makassar\" + 0.012*\"kapal\" + '\n",
      "  '0.012*\"penyelesaiannya\" + 0.011*\"pelabuhan\"'),\n",
      " (2,\n",
      "  '0.024*\"presiden_joko\" + 0.023*\"media_sosial\" + 0.022*\"xl_axiata\" + '\n",
      "  '0.019*\"widodo_jokowi\" + 0.019*\"pengalihan\" + 0.016*\"empat\" + '\n",
      "  '0.012*\"presiden\" + 0.011*\"xl\" + 0.011*\"axiata\" + 0.011*\"akta\"'),\n",
      " (0,\n",
      "  '0.020*\"alternatif\" + 0.019*\"rapat_koordinasi\" + 0.019*\"mudik_lebaran\" + '\n",
      "  '0.017*\"bandara\" + 0.016*\"badan_usaha\" + 0.010*\"jalur_alternatif\" + '\n",
      "  '0.010*\"jawa_tengah\" + 0.009*\"direktorat\" + 0.009*\"pekerja\" + 0.009*\"mudik\"'),\n",
      " (29,\n",
      "  '0.101*\"palapa_ring\" + 0.035*\"palapa\" + 0.034*\"ring\" + 0.028*\"internet\" + '\n",
      "  '0.019*\"komunikasi_informatika\" + 0.014*\"jaringan\" + 0.013*\"telekomunikasi\" '\n",
      "  '+ 0.012*\"rudiantara\" + 0.010*\"jaringan_telekomunikasi\" + 0.010*\"barat\"'),\n",
      " (26,\n",
      "  '0.030*\"bengkulu\" + 0.028*\"provinsi_bengkulu\" + 0.020*\"rute\" + '\n",
      "  '0.015*\"kemhub\" + 0.013*\"sudirman\" + 0.013*\"provinsi\" + 0.012*\"sistem\" + '\n",
      "  '0.010*\"mempercepat_pembangunan\" + 0.010*\"rusak\" + 0.009*\"terlaksana\"'),\n",
      " (12,\n",
      "  '0.028*\"rakyat_pupr\" + 0.027*\"perbaikan_jalan\" + '\n",
      "  '0.023*\"kementerian_pekerjaan\" + 0.019*\"umum_perumahan\" + 0.018*\"waduk\" + '\n",
      "  '0.017*\"lubuk\" + 0.017*\"efisien\" + 0.013*\"rumah\" + 0.012*\"tol_trans\" + '\n",
      "  '0.012*\"kementerian_pekerjaan_umum_perumahan\"'),\n",
      " (14,\n",
      "  '0.031*\"total_kapasitas\" + 0.020*\"saham_perusahaan\" + 0.015*\"mrt_jakarta\" + '\n",
      "  '0.011*\"berlaku\" + 0.011*\"jaringan\" + 0.010*\"kapasitas\" + 0.010*\"pulau_jawa\" '\n",
      "  '+ 0.009*\"terealisasi\" + 0.009*\"pembangunannya\" + 0.009*\"mahal\"'),\n",
      " (5,\n",
      "  '0.036*\"tahun_depan\" + 0.026*\"pembangunan_waduk\" + 0.019*\"irawan\" + '\n",
      "  '0.018*\"jalan_tol\" + 0.014*\"road\" + 0.013*\"tahun\" + 0.012*\"anak_anak\" + '\n",
      "  '0.012*\"waduk\" + 0.010*\"tujuan\" + 0.010*\"eksekusi\"'),\n",
      " (8,\n",
      "  '0.079*\"kmj\" + 0.020*\"sumsel\" + 0.018*\"ketiga\" + 0.014*\"blok\" + '\n",
      "  '0.013*\"daftar\" + 0.012*\"kapal\" + 0.012*\"jawa_barat\" + 0.010*\"mesin_kapal\" + '\n",
      "  '0.010*\"teratasi\" + 0.010*\"mesin\"'),\n",
      " (34,\n",
      "  '0.030*\"integrasi\" + 0.024*\"kementerian_pupr\" + 0.021*\"desember\" + '\n",
      "  '0.017*\"moda_transportasi\" + 0.017*\"direktur_utama\" + 0.014*\"kominfo\" + '\n",
      "  '0.012*\"penguatan\" + 0.011*\"sulawesi\" + 0.009*\"tioconny_billy\" + '\n",
      "  '0.009*\"billy\"'),\n",
      " (10,\n",
      "  '0.052*\"gas\" + 0.029*\"gas_bumi\" + 0.025*\"pipa\" + 0.022*\"pembangkit_listrik\" '\n",
      "  '+ 0.021*\"pgn\" + 0.019*\"pipa_gas\" + 0.018*\"badan_usaha\" + 0.016*\"gus_irawan\" '\n",
      "  '+ 0.014*\"bumi\" + 0.011*\"jepara\"'),\n",
      " (24,\n",
      "  '0.029*\"kepala_bappeda\" + 0.021*\"denmark_indonesia\" + 0.017*\"dioperasikan\" + '\n",
      "  '0.015*\"jateng\" + 0.015*\"bappeda\" + 0.014*\"pln_persero\" + 0.013*\"kerjasama\" '\n",
      "  '+ 0.012*\"dimanfaatkan\" + 0.011*\"jateng_iswidodo\" + 0.011*\"operator\"'),\n",
      " (23,\n",
      "  '0.036*\"jaringan_irigasi\" + 0.028*\"triwulan_pertama\" + '\n",
      "  '0.026*\"pembangunan_infrastruktur\" + 0.020*\"pembangunan\" + 0.019*\"jaringan\" '\n",
      "  '+ 0.014*\"irigasi\" + 0.014*\"pmi\" + 0.012*\"pertama\" + 0.011*\"abdullah\" + '\n",
      "  '0.011*\"daerah\"')]\n"
     ]
    }
   ],
   "source": [
    "from pprint import pprint\n",
    "\n",
    "model = LdaModel(corpus=corpus_tfidf, id2word=dictionary, num_topics=40)\n",
    "pprint(model.print_topics())"
   ]
  },
  {
   "cell_type": "code",
   "execution_count": 62,
   "metadata": {
    "scrolled": true
   },
   "outputs": [
    {
     "name": "stdout",
     "output_type": "stream",
     "text": [
      "Topic: 0 Word: 0.084*\"holding\" + 0.017*\"holding_migas\" + 0.016*\"train\" + 0.016*\"optimal\" + 0.015*\"lrt_jakarta\" + 0.015*\"service\" + 0.014*\"service_obligation\" + 0.012*\"asian_games\" + 0.012*\"mandeh\" + 0.010*\"presiden_jokowi\"\n",
      "Topic: 1 Word: 0.031*\"total_kapasitas\" + 0.022*\"hilir\" + 0.020*\"bahan_bakar\" + 0.020*\"pendanaan\" + 0.019*\"rapat_koordinasi\" + 0.017*\"cakung\" + 0.017*\"alternatif\" + 0.016*\"lahan_seluas\" + 0.013*\"menteri_koordinator\" + 0.012*\"total\"\n",
      "Topic: 2 Word: 0.068*\"palapa_ring\" + 0.024*\"bendungan\" + 0.024*\"palapa\" + 0.023*\"ring\" + 0.022*\"jepara\" + 0.017*\"pelanggan\" + 0.017*\"penyelesaian\" + 0.011*\"rudiantara\" + 0.010*\"efisien\" + 0.010*\"kartini\"\n",
      "Topic: 3 Word: 0.030*\"perseroan\" + 0.016*\"mulai\" + 0.013*\"sepanjang_kilometer\" + 0.013*\"jaringan\" + 0.012*\"jalan_tol\" + 0.011*\"mulai_dioperasikan\" + 0.009*\"lakukan\" + 0.009*\"dioperasikan\" + 0.008*\"rumah\" + 0.008*\"cabang\"\n",
      "Topic: 4 Word: 0.025*\"pesawat\" + 0.022*\"pita_lebar\" + 0.019*\"program_pita\" + 0.018*\"dpr_ri\" + 0.017*\"serat_optik\" + 0.015*\"program_padat\" + 0.014*\"pita\" + 0.014*\"produk\" + 0.013*\"optik\" + 0.013*\"broadband\"\n",
      "Topic: 5 Word: 0.026*\"pemegang_saham\" + 0.022*\"provinsi_bengkulu\" + 0.020*\"pelabuhan_patimban\" + 0.013*\"saham\" + 0.013*\"jalan_tol\" + 0.011*\"komite\" + 0.011*\"jaringan_irigasi\" + 0.010*\"duri\" + 0.010*\"kayak\" + 0.010*\"siapkan\"\n",
      "Topic: 6 Word: 0.056*\"uji_coba\" + 0.019*\"uji\" + 0.018*\"coba\" + 0.017*\"batam\" + 0.012*\"rekomendasi\" + 0.011*\"agen\" + 0.010*\"penumpang\" + 0.010*\"tambak\" + 0.010*\"bts\" + 0.009*\"gunung\"\n",
      "Topic: 7 Word: 0.030*\"proyek_strategis\" + 0.022*\"hulu\" + 0.021*\"kapal\" + 0.017*\"nasional_psn\" + 0.015*\"play\" + 0.014*\"psn\" + 0.012*\"penerbangan\" + 0.011*\"penerbangan_perdana\" + 0.010*\"nasional\" + 0.010*\"strategis\"\n",
      "Topic: 8 Word: 0.023*\"kunjungan_kerja\" + 0.023*\"persero_tbk\" + 0.018*\"samarinda\" + 0.015*\"perusahaan_gas\" + 0.015*\"terkendala\" + 0.014*\"waktu_tempuh\" + 0.012*\"alasan\" + 0.012*\"komisi_dpr\" + 0.011*\"kenyamanan\" + 0.011*\"kuningan\"\n",
      "Topic: 9 Word: 0.020*\"tanjung_api\" + 0.020*\"jaringan_gas\" + 0.018*\"direktorat_jenderal\" + 0.015*\"penambahan\" + 0.014*\"api_muntok\" + 0.012*\"beroperasi\" + 0.012*\"direktorat\" + 0.012*\"pemindahan\" + 0.012*\"api\" + 0.011*\"gubernur_dki\"\n",
      "Topic: 10 Word: 0.050*\"pertamina\" + 0.017*\"pembentukan_holding\" + 0.017*\"triwulan_pertama\" + 0.017*\"jangka_panjang\" + 0.016*\"xl_axiata\" + 0.012*\"layanan_data\" + 0.012*\"miliar\" + 0.011*\"pgn_pertagas\" + 0.011*\"pmi\" + 0.011*\"pipa_gas\"\n",
      "Topic: 11 Word: 0.026*\"ilustrasi\" + 0.026*\"badan_usaha\" + 0.015*\"inovasi\" + 0.013*\"anak_anak\" + 0.011*\"usaha\" + 0.011*\"penetapan\" + 0.009*\"iii\" + 0.009*\"bisnis\" + 0.009*\"mandiri\" + 0.009*\"membuka\"\n",
      "Topic: 12 Word: 0.029*\"pembangunan_infrastruktur\" + 0.023*\"layang\" + 0.021*\"kabupaten_kota\" + 0.019*\"jalur_ganda\" + 0.017*\"bertahun_tahun\" + 0.016*\"investasi_sektor\" + 0.016*\"penunjang\" + 0.014*\"konstruksi\" + 0.010*\"pertumbuhan_ekonomi\" + 0.009*\"pemanfaatan\"\n",
      "Topic: 13 Word: 0.042*\"pembangkit_listrik\" + 0.028*\"kantor_kementerian\" + 0.020*\"pembangkit\" + 0.019*\"tenaga\" + 0.018*\"listrik\" + 0.015*\"tenaga_kerja\" + 0.013*\"produksi\" + 0.013*\"berjalan_lancar\" + 0.009*\"kapasitas\" + 0.009*\"provinsi_jambi\"\n",
      "Topic: 14 Word: 0.047*\"pembangunan_waduk\" + 0.033*\"waduk\" + 0.027*\"mudik_lebaran\" + 0.015*\"selesai\" + 0.013*\"capaian\" + 0.013*\"kepala_dinas\" + 0.012*\"gus_irawan\" + 0.011*\"meningkatkan_kapasitas\" + 0.011*\"tahun\" + 0.010*\"keuntungan\"\n",
      "Topic: 15 Word: 0.015*\"kepulauan\" + 0.015*\"sepanjang_kilometer\" + 0.014*\"pembangunannya\" + 0.013*\"bekasi\" + 0.013*\"jalan_tol\" + 0.011*\"bandung\" + 0.010*\"mengatasi\" + 0.010*\"berangkat\" + 0.010*\"transit_lrt\" + 0.010*\"ringan\"\n",
      "Topic: 16 Word: 0.042*\"jaringan_telekomunikasi\" + 0.033*\"lrt_palembang\" + 0.028*\"kepala_bappeda\" + 0.017*\"bappeda\" + 0.015*\"ntt\" + 0.013*\"telekomunikasi\" + 0.011*\"terpencil\" + 0.011*\"denmark_indonesia\" + 0.010*\"jaringan\" + 0.010*\"palembang\"\n",
      "Topic: 17 Word: 0.032*\"jaringan_irigasi\" + 0.022*\"direktur_utama\" + 0.014*\"irigasi\" + 0.014*\"kementerian_pupr\" + 0.014*\"pembangunan\" + 0.013*\"maret\" + 0.012*\"operator\" + 0.011*\"daya_air\" + 0.011*\"jaringan\" + 0.011*\"tim\"\n",
      "Topic: 18 Word: 0.025*\"perbaikan_jalan\" + 0.017*\"lanjut\" + 0.015*\"november\" + 0.012*\"reguler\" + 0.011*\"mencapai_persen\" + 0.010*\"berfungsi\" + 0.010*\"waktu\" + 0.010*\"dipasang\" + 0.010*\"perbaikan\" + 0.010*\"pelemahan\"\n",
      "Topic: 19 Word: 0.030*\"jawa_timur\" + 0.027*\"penyedia_jasa\" + 0.016*\"malam_hari\" + 0.015*\"pekerja\" + 0.013*\"kerjasama_pemerintah\" + 0.013*\"kesejahteraan_masyarakat\" + 0.013*\"kai\" + 0.012*\"sudirman\" + 0.012*\"penyedia\" + 0.012*\"memenuhi_kebutuhan\"\n",
      "Topic: 20 Word: 0.051*\"gas\" + 0.035*\"migas\" + 0.025*\"gas_bumi\" + 0.021*\"pipa\" + 0.020*\"pgn\" + 0.018*\"bph_migas\" + 0.016*\"holding_bumn\" + 0.015*\"holding_migas\" + 0.013*\"badan_usaha\" + 0.013*\"bumi\"\n",
      "Topic: 21 Word: 0.027*\"feb\" + 0.026*\"palapa_ring\" + 0.024*\"jalan_tol\" + 0.020*\"rakyat_pupr\" + 0.019*\"manufaktur\" + 0.016*\"umum_perumahan\" + 0.014*\"kementerian_pekerjaan\" + 0.013*\"ring\" + 0.012*\"uji_coba\" + 0.010*\"tukasnya\"\n",
      "Topic: 22 Word: 0.031*\"internet_berkecepatan\" + 0.027*\"internet\" + 0.022*\"laporan_jateng\" + 0.017*\"berkecepatan\" + 0.017*\"pemerintah_pusat\" + 0.016*\"tinggi\" + 0.013*\"badan_pengatur\" + 0.011*\"bbm\" + 0.011*\"kuala_tanjung\" + 0.010*\"mnc\"\n",
      "Topic: 23 Word: 0.029*\"sepanjang_meter\" + 0.021*\"gus\" + 0.021*\"gus_irawan\" + 0.018*\"jawa_tengah\" + 0.016*\"semarang\" + 0.014*\"infrastuktur\" + 0.012*\"sepanjang\" + 0.011*\"muhammad\" + 0.011*\"jalan_tol\" + 0.010*\"ditargetkan_selesai\"\n",
      "Topic: 24 Word: 0.032*\"mrt\" + 0.018*\"pembangunan_infrastruktur\" + 0.018*\"tahun_depan\" + 0.018*\"terpasang\" + 0.017*\"terkoneksi\" + 0.016*\"pengalihan\" + 0.015*\"pln_persero\" + 0.012*\"jawa_barat\" + 0.011*\"moeldoko\" + 0.010*\"pembangunan\"\n",
      "Topic: 25 Word: 0.030*\"jasa_marga\" + 0.014*\"prosedur\" + 0.012*\"tanggal\" + 0.011*\"memperkuat\" + 0.011*\"menyelesaikan\" + 0.010*\"komersial\" + 0.010*\"lubuk\" + 0.009*\"menikmati\" + 0.009*\"penandatanganan\" + 0.009*\"blok\"\n",
      "Topic: 26 Word: 0.020*\"integrasi\" + 0.019*\"saham_perusahaan\" + 0.019*\"widodo_jokowi\" + 0.016*\"energi_daya\" + 0.015*\"lapangan\" + 0.015*\"presiden_joko\" + 0.015*\"sumsel\" + 0.015*\"pelaksana_proyek\" + 0.010*\"proses\" + 0.010*\"alasannya\"\n",
      "Topic: 27 Word: 0.026*\"kementerian_bumn\" + 0.026*\"akhir_tahun\" + 0.018*\"pembangunan_infrastruktur\" + 0.014*\"menteri_bumn\" + 0.012*\"akhir\" + 0.009*\"mrt_jakarta\" + 0.009*\"mencapai_persen\" + 0.009*\"menteri\" + 0.008*\"basuki\" + 0.008*\"pengolahan\"\n",
      "Topic: 28 Word: 0.052*\"bengkulu\" + 0.043*\"bali\" + 0.018*\"penerbangan_perdana\" + 0.017*\"surya\" + 0.017*\"manager\" + 0.013*\"berangkat\" + 0.012*\"name\" + 0.011*\"sepanjang_kilometer\" + 0.009*\"bali_utara\" + 0.008*\"nam_air\"\n",
      "Topic: 29 Word: 0.066*\"kmj\" + 0.038*\"penerbangan_perdana\" + 0.027*\"menuju_karimunjawa\" + 0.024*\"penerbangan\" + 0.021*\"arus_mudik\" + 0.020*\"media_sosial\" + 0.019*\"karimunjawa\" + 0.017*\"semarang\" + 0.016*\"pertanian\" + 0.015*\"agus\"\n",
      "Topic: 30 Word: 0.026*\"gus_irawan\" + 0.024*\"irawan\" + 0.020*\"kepulauan_karimunjawa\" + 0.017*\"denmark_indonesia\" + 0.017*\"pulau\" + 0.015*\"denmark\" + 0.014*\"plts\" + 0.014*\"pembayaran\" + 0.014*\"menjamin\" + 0.013*\"republik_indonesia\"\n",
      "Topic: 31 Word: 0.038*\"bali_utara\" + 0.035*\"investasi_sektor\" + 0.027*\"bandara\" + 0.021*\"komunikasi_informatika\" + 0.017*\"jawa_tengah\" + 0.016*\"angkasa_pura\" + 0.016*\"proyek_strategis\" + 0.012*\"investasi\" + 0.012*\"bisnis\" + 0.011*\"kontruksi\"\n",
      "Topic: 32 Word: 0.016*\"empat\" + 0.015*\"disesuaikan\" + 0.015*\"presiden_jokowi\" + 0.013*\"deputi_bidang\" + 0.013*\"tuntas\" + 0.012*\"abdullah\" + 0.012*\"kantornya\" + 0.011*\"proyek\" + 0.009*\"air_baku\" + 0.007*\"kajian\"\n",
      "Topic: 33 Word: 0.037*\"sumatera_selatan\" + 0.016*\"trans_sumatera\" + 0.013*\"sumatera\" + 0.013*\"harapannya\" + 0.012*\"kecelakaan_konstruksi\" + 0.010*\"msi\" + 0.008*\"tersedia\" + 0.008*\"dampak_positif\" + 0.008*\"meningkatnya\" + 0.008*\"selatan\"\n",
      "Topic: 34 Word: 0.049*\"kereta_api\" + 0.029*\"percepatan_pembangunan\" + 0.020*\"pemalang_batang\" + 0.019*\"api\" + 0.019*\"kereta\" + 0.017*\"kota_semarang\" + 0.015*\"solo\" + 0.014*\"jalan_tol\" + 0.013*\"dpr_ri\" + 0.012*\"anggota_komisi\"\n",
      "Topic: 35 Word: 0.018*\"perdana\" + 0.014*\"direktur_jenderal\" + 0.013*\"struktur\" + 0.013*\"diperkirakan\" + 0.012*\"dijadwalkan\" + 0.011*\"pso\" + 0.011*\"menhub\" + 0.010*\"komponen\" + 0.009*\"non_pso\" + 0.009*\"direksi\"\n",
      "Topic: 36 Word: 0.025*\"dki_jakarta\" + 0.023*\"provinsi_rusak\" + 0.020*\"daya_saing\" + 0.016*\"komersial\" + 0.015*\"infrastuktur\" + 0.015*\"lng\" + 0.015*\"menerapkan\" + 0.013*\"pln\" + 0.011*\"ditenderkan\" + 0.011*\"dki\"\n",
      "Topic: 37 Word: 0.025*\"pemprov_dki\" + 0.021*\"nilai_investasi\" + 0.020*\"pembebasan_lahan\" + 0.019*\"pembangunan_waduk\" + 0.017*\"pemprov\" + 0.016*\"dki\" + 0.015*\"luar_jawa\" + 0.013*\"ven\" + 0.012*\"padat_karya\" + 0.011*\"melanjutkan\"\n",
      "Topic: 38 Word: 0.032*\"tahap_pertama\" + 0.027*\"harga\" + 0.024*\"tahun_depan\" + 0.023*\"harga_gas\" + 0.017*\"enam_ruas\" + 0.017*\"kominfo\" + 0.016*\"satu_harga\" + 0.013*\"kereta\" + 0.012*\"tahap\" + 0.012*\"pertama\"\n",
      "Topic: 39 Word: 0.018*\"tunggu\" + 0.017*\"digital\" + 0.014*\"positif\" + 0.013*\"keterangan_tertulis\" + 0.011*\"diselesaikan\" + 0.010*\"antisipasi\" + 0.010*\"ditinggal\" + 0.010*\"nusa_tenggara\" + 0.009*\"sekolah\" + 0.008*\"tenggara\"\n"
     ]
    }
   ],
   "source": [
    "model = LdaModel(corpus=corpus_tfidf, id2word=dictionary, num_topics=40)\n",
    "\n",
    "for idx, topic in model.print_topics(-1):\n",
    "    print('Topic: {} Word: {}'.format(idx, topic))"
   ]
  },
  {
   "cell_type": "code",
   "execution_count": 64,
   "metadata": {},
   "outputs": [
    {
     "name": "stdout",
     "output_type": "stream",
     "text": [
      "None\n"
     ]
    }
   ],
   "source": [
    "import pandas as pd\n",
    "top_words_per_topic = []\n",
    "for t in range(model.num_topics):\n",
    "    top_words_per_topic.extend([(t, ) + x for x in model.show_topic(t, topn = 10)])\n",
    "\n",
    "#pd.DataFrame(top_words_per_topic, columns=['Topic', 'Word', 'P']).to_csv(\"top_words.csv\")\n",
    "df = pd.DataFrame(top_words_per_topic, columns=['Topic', 'Word','P']).to_csv(\"top_words2.csv\")\n",
    "print(df)"
   ]
  },
  {
   "cell_type": "code",
   "execution_count": 63,
   "metadata": {},
   "outputs": [
    {
     "name": "stdout",
     "output_type": "stream",
     "text": [
      "PreparedData(topic_coordinates=           Freq  cluster  topics         x         y\n",
      "topic                                               \n",
      "20     5.406000        1       1 -0.288658  0.003357\n",
      "27     3.664363        1       2 -0.046676 -0.060660\n",
      "13     3.530381        1       3 -0.050486 -0.025849\n",
      "15     3.182938        1       4  0.074324  0.027326\n",
      "22     3.076121        1       5 -0.007235 -0.094345\n",
      "2      3.056363        1       6  0.008446 -0.188181\n",
      "21     3.054903        1       7  0.075298 -0.126157\n",
      "18     3.013633        1       8  0.000648  0.028512\n",
      "10     2.879955        1       9 -0.137267  0.062862\n",
      "32     2.776192        1      10  0.010287  0.009027\n",
      "4      2.711467        1      11  0.050095 -0.164229\n",
      "17     2.683459        1      12 -0.009353 -0.065617\n",
      "34     2.658079        1      13  0.080249  0.012812\n",
      "24     2.561052        1      14  0.002217 -0.057633\n",
      "39     2.548123        1      15  0.038564  0.023706\n",
      "33     2.515942        1      16  0.046242  0.022852\n",
      "31     2.502594        1      17 -0.076323 -0.033288\n",
      "26     2.420791        1      18 -0.067446 -0.000545\n",
      "16     2.412628        1      19  0.016044 -0.060145\n",
      "25     2.384114        1      20 -0.074899  0.042649\n",
      "5      2.382505        1      21  0.026428  0.001913\n",
      "11     2.248605        1      22 -0.075808 -0.024190\n",
      "9      2.201738        1      23  0.036474  0.085402\n",
      "7      2.201630        1      24 -0.003793  0.011366\n",
      "0      2.183312        1      25 -0.019651  0.040893\n",
      "37     2.168060        1      26  0.021565  0.009639\n",
      "23     2.140579        1      27  0.040895  0.047649\n",
      "38     2.139459        1      28 -0.016310 -0.013600\n",
      "19     2.135570        1      29  0.035907  0.005667\n",
      "3      2.076739        1      30  0.054303  0.024841\n",
      "6      2.055999        1      31  0.026547  0.062711\n",
      "8      2.051257        1      32  0.027645  0.076844\n",
      "36     2.007496        1      33 -0.003736  0.049588\n",
      "1      1.994875        1      34  0.001070  0.063241\n",
      "29     1.984659        1      35  0.035728  0.069130\n",
      "35     1.966611        1      36  0.040845  0.007286\n",
      "30     1.881960        1      37  0.042156 -0.009937\n",
      "12     1.860360        1      38 -0.015941  0.010500\n",
      "14     1.669743        1      39  0.060915  0.051579\n",
      "28     1.609750        1      40  0.040690  0.073026, topic_info=     Category       Freq                       Term      Total  loglift  \\\n",
      "term                                                                      \n",
      "85    Default  56.000000                palapa_ring  56.000000  30.0000   \n",
      "352   Default  45.000000                        gas  45.000000  29.0000   \n",
      "2485  Default  29.000000                    holding  29.000000  28.0000   \n",
      "1782  Default  25.000000                   uji_coba  25.000000  27.0000   \n",
      "414   Default  30.000000                      migas  30.000000  26.0000   \n",
      "489   Default  22.000000                        kmj  22.000000  25.0000   \n",
      "2013  Default  23.000000                  pertamina  23.000000  24.0000   \n",
      "1975  Default  26.000000         pembangkit_listrik  26.000000  23.0000   \n",
      "304   Default  28.000000                 kereta_api  28.000000  22.0000   \n",
      "2407  Default  19.000000          pembangunan_waduk  19.000000  21.0000   \n",
      "42    Default  22.000000    jaringan_telekomunikasi  22.000000  20.0000   \n",
      "1373  Default  17.000000                   bengkulu  17.000000  19.0000   \n",
      "3396  Default  22.000000        penerbangan_perdana  22.000000  18.0000   \n",
      "2351  Default  19.000000           investasi_sektor  19.000000  17.0000   \n",
      "3359  Default  22.000000                 gus_irawan  22.000000  16.0000   \n",
      "3035  Default  21.000000                 bali_utara  21.000000  15.0000   \n",
      "1399  Default  16.000000           sumatera_selatan  16.000000  14.0000   \n",
      "1394  Default  18.000000           jaringan_irigasi  18.000000  13.0000   \n",
      "1005  Default  18.000000                       bali  18.000000  12.0000   \n",
      "131   Default  25.000000                badan_usaha  25.000000  11.0000   \n",
      "199   Default  16.000000      internet_berkecepatan  16.000000  10.0000   \n",
      "1826  Default  21.000000           proyek_strategis  21.000000   9.0000   \n",
      "2370  Default  21.000000           kementerian_bumn  21.000000   8.0000   \n",
      "75    Default  23.000000                   internet  23.000000   7.0000   \n",
      "116   Default  57.000000  pembangunan_infrastruktur  57.000000   6.0000   \n",
      "2442  Default  16.000000         kantor_kementerian  16.000000   5.0000   \n",
      "393   Default  18.000000                       pipa  18.000000   4.0000   \n",
      "1986  Default  13.000000              lrt_palembang  13.000000   3.0000   \n",
      "1322  Default  16.000000                        mrt  16.000000   2.0000   \n",
      "819   Default  20.000000                tahun_depan  20.000000   1.0000   \n",
      "...       ...        ...                        ...        ...      ...   \n",
      "2654  Topic40   1.482135                     nyaman   2.971077   3.4337   \n",
      "302   Topic40   1.260647                 kelancaran   2.561872   3.4200   \n",
      "859   Topic40   0.737542                   miliaran   1.534603   3.3964   \n",
      "2555  Topic40   1.318780                      demak   2.844864   3.3603   \n",
      "3369  Topic40   1.685266            general_manager   3.808077   3.3139   \n",
      "3402  Topic40   2.001439                     flight   4.590816   3.2989   \n",
      "333   Topic40   1.913518                     konsep   4.420680   3.2917   \n",
      "380   Topic40   1.442518                      jenis   3.378431   3.2781   \n",
      "159   Topic40   1.511919                 kontribusi   3.560470   3.2726   \n",
      "2258  Topic40   1.412745               kepala_badan   3.327437   3.2724   \n",
      "1267  Topic40   1.333946               hutama_karya   3.199468   3.2542   \n",
      "1681  Topic40   0.707831                  jawa_bali   1.718400   3.2421   \n",
      "1241  Topic40   0.682114                 preservasi   1.658111   3.2409   \n",
      "3135  Topic40   1.541899                    general   3.888406   3.2041   \n",
      "3484  Topic40   0.901914                    grissik   2.280760   3.2013   \n",
      "3485  Topic40   0.901914              grissik_pusri   2.280760   3.2013   \n",
      "787   Topic40   1.544471                 kondisinya   3.993600   3.1791   \n",
      "1533  Topic40   3.242807                  berangkat   9.337917   3.0714   \n",
      "3401  Topic40   2.042444                    charter   5.779965   3.0888   \n",
      "3396  Topic40   4.464302        penerbangan_perdana  22.517372   2.5109   \n",
      "562   Topic40   2.085626                     dampak   8.320875   2.7454   \n",
      "1252  Topic40   1.514488                 diresmikan   4.915866   2.9517   \n",
      "1574  Topic40   1.950785                    perdana   8.399092   2.6692   \n",
      "1341  Topic40   2.767966        sepanjang_kilometer  27.777905   1.8230   \n",
      "3035  Topic40   2.389958                 bali_utara  21.566896   1.9292   \n",
      "3508  Topic40   2.140871             bengkulu_utara  18.300385   1.9834   \n",
      "776   Topic40   1.545973    perencanaan_pembangunan   6.218685   2.7372   \n",
      "765   Topic40   2.079774            perbaikan_jalan  31.159668   1.4222   \n",
      "1778  Topic40   1.674595                       coba  10.297839   2.3127   \n",
      "242   Topic40   1.471886                  teknologi   9.106358   2.3067   \n",
      "\n",
      "      logprob  \n",
      "term           \n",
      "85    30.0000  \n",
      "352   29.0000  \n",
      "2485  28.0000  \n",
      "1782  27.0000  \n",
      "414   26.0000  \n",
      "489   25.0000  \n",
      "2013  24.0000  \n",
      "1975  23.0000  \n",
      "304   22.0000  \n",
      "2407  21.0000  \n",
      "42    20.0000  \n",
      "1373  19.0000  \n",
      "3396  18.0000  \n",
      "2351  17.0000  \n",
      "3359  16.0000  \n",
      "3035  15.0000  \n",
      "1399  14.0000  \n",
      "1394  13.0000  \n",
      "1005  12.0000  \n",
      "131   11.0000  \n",
      "199   10.0000  \n",
      "1826   9.0000  \n",
      "2370   8.0000  \n",
      "75     7.0000  \n",
      "116    6.0000  \n",
      "2442   5.0000  \n",
      "393    4.0000  \n",
      "1986   3.0000  \n",
      "1322   2.0000  \n",
      "819    1.0000  \n",
      "...       ...  \n",
      "2654  -5.1432  \n",
      "302   -5.3051  \n",
      "859   -5.8412  \n",
      "2555  -5.2600  \n",
      "3369  -5.0148  \n",
      "3402  -4.8429  \n",
      "333   -4.8878  \n",
      "380   -5.1703  \n",
      "159   -5.1233  \n",
      "2258  -5.1912  \n",
      "1267  -5.2486  \n",
      "1681  -5.8823  \n",
      "1241  -5.9193  \n",
      "3135  -5.1037  \n",
      "3484  -5.6400  \n",
      "3485  -5.6400  \n",
      "787   -5.1020  \n",
      "1533  -4.3603  \n",
      "3401  -4.8226  \n",
      "3396  -4.0406  \n",
      "562   -4.8017  \n",
      "1252  -5.1216  \n",
      "1574  -4.8685  \n",
      "1341  -4.5186  \n",
      "3035  -4.6655  \n",
      "3508  -4.7755  \n",
      "776   -5.1011  \n",
      "765   -4.8045  \n",
      "1778  -5.0212  \n",
      "242   -5.1502  \n",
      "\n",
      "[1882 rows x 6 columns], token_table=      Topic      Freq               Term\n",
      "term                                    \n",
      "3128     36  0.773633              abang\n",
      "1953     10  0.717125           abdullah\n",
      "1953     36  0.143425           abdullah\n",
      "2492     24  0.510327      acara_diskusi\n",
      "2093     21  0.746003                adi\n",
      "2318     31  0.814943               agen\n",
      "2903     25  0.744660             agenda\n",
      "3427      1  0.646637          agregator\n",
      "3428      1  0.704400      agregator_gas\n",
      "1684      1  0.253728              agung\n",
      "1684     31  0.507457              agung\n",
      "2164     35  0.769601               agus\n",
      "1473      2  0.091334            agustus\n",
      "1473      9  0.091334            agustus\n",
      "1473     16  0.182669            agustus\n",
      "1473     17  0.091334            agustus\n",
      "1473     18  0.091334            agustus\n",
      "1473     21  0.091334            agustus\n",
      "1473     25  0.182669            agustus\n",
      "1473     26  0.091334            agustus\n",
      "1735     25  0.636119  agustus_september\n",
      "1702      8  0.171054              ahmad\n",
      "1702     23  0.171054              ahmad\n",
      "1702     28  0.342109              ahmad\n",
      "2548      8  0.400097         ahmad_yani\n",
      "2548     20  0.100024         ahmad_yani\n",
      "2548     23  0.100024         ahmad_yani\n",
      "2548     28  0.400097         ahmad_yani\n",
      "0         1  0.048098                air\n",
      "0         3  0.048098                air\n",
      "...     ...       ...                ...\n",
      "46       19  0.118345            wilayah\n",
      "46       21  0.039448            wilayah\n",
      "46       22  0.039448            wilayah\n",
      "46       25  0.039448            wilayah\n",
      "46       26  0.039448            wilayah\n",
      "46       28  0.039448            wilayah\n",
      "46       30  0.039448            wilayah\n",
      "46       37  0.039448            wilayah\n",
      "3084      5  0.099371      wisata_mandeh\n",
      "3084     11  0.496855      wisata_mandeh\n",
      "3084     25  0.099371      wisata_mandeh\n",
      "3084     29  0.198742      wisata_mandeh\n",
      "1010      2  0.295367          wisatawan\n",
      "1010     39  0.590735          wisatawan\n",
      "1572     29  0.717177               wita\n",
      "2759     36  0.522007              wujud\n",
      "15        5  0.125131                 xl\n",
      "15        9  0.250262                 xl\n",
      "15       17  0.062566                 xl\n",
      "15       19  0.125131                 xl\n",
      "15       25  0.125131                 xl\n",
      "15       31  0.187697                 xl\n",
      "15       33  0.062566                 xl\n",
      "16        9  0.462251          xl_axiata\n",
      "16       17  0.198108          xl_axiata\n",
      "16       27  0.066036          xl_axiata\n",
      "16       31  0.132072          xl_axiata\n",
      "454       2  0.677459              yakin\n",
      "454      22  0.169365              yakin\n",
      "2468     13  0.810076           zulfikri\n",
      "\n",
      "[3896 rows x 3 columns], R=30, lambda_step=0.01, plot_opts={'xlab': 'PC1', 'ylab': 'PC2'}, topic_order=[21, 28, 14, 16, 23, 3, 22, 19, 11, 33, 5, 18, 35, 25, 40, 34, 32, 27, 17, 26, 6, 12, 10, 8, 1, 38, 24, 39, 20, 4, 7, 9, 37, 2, 30, 36, 31, 13, 15, 29])\n"
     ]
    }
   ],
   "source": [
    "import gensim\n",
    "import pyLDAvis.gensim;pyLDAvis.enable_notebook()\n",
    "\n",
    "data = pyLDAvis.gensim.prepare(model, corpus_tfidf, dictionary)\n",
    "print(data)\n",
    "pyLDAvis.save_html(data, 'lda-gensim-40.html')"
   ]
  },
  {
   "cell_type": "code",
   "execution_count": 43,
   "metadata": {},
   "outputs": [
    {
     "ename": "AttributeError",
     "evalue": "'list' object has no attribute 'get_feature_names'",
     "output_type": "error",
     "traceback": [
      "\u001b[1;31m---------------------------------------------------------------------------\u001b[0m",
      "\u001b[1;31mAttributeError\u001b[0m                            Traceback (most recent call last)",
      "\u001b[1;32m<ipython-input-43-285aeee940d8>\u001b[0m in \u001b[0;36m<module>\u001b[1;34m()\u001b[0m\n\u001b[0;32m      9\u001b[0m     \u001b[1;32mreturn\u001b[0m \u001b[0mtopic_keywords\u001b[0m\u001b[1;33m\u001b[0m\u001b[0m\n\u001b[0;32m     10\u001b[0m \u001b[1;33m\u001b[0m\u001b[0m\n\u001b[1;32m---> 11\u001b[1;33m \u001b[0mtopic_keywords\u001b[0m \u001b[1;33m=\u001b[0m \u001b[0mshow_topics\u001b[0m\u001b[1;33m(\u001b[0m\u001b[0mvectorizer\u001b[0m\u001b[1;33m=\u001b[0m\u001b[0mdoc_term_matrix\u001b[0m\u001b[1;33m,\u001b[0m \u001b[0mlda_model\u001b[0m\u001b[1;33m=\u001b[0m\u001b[0mmodel\u001b[0m\u001b[1;33m,\u001b[0m \u001b[0mn_words\u001b[0m\u001b[1;33m=\u001b[0m\u001b[1;36m10\u001b[0m\u001b[1;33m)\u001b[0m\u001b[1;33m\u001b[0m\u001b[0m\n\u001b[0m\u001b[0;32m     12\u001b[0m \u001b[1;33m\u001b[0m\u001b[0m\n\u001b[0;32m     13\u001b[0m \u001b[1;31m# Topic - Keywords Dataframe\u001b[0m\u001b[1;33m\u001b[0m\u001b[1;33m\u001b[0m\u001b[0m\n",
      "\u001b[1;32m<ipython-input-43-285aeee940d8>\u001b[0m in \u001b[0;36mshow_topics\u001b[1;34m(vectorizer, lda_model, n_words)\u001b[0m\n\u001b[0;32m      2\u001b[0m \u001b[1;31m# Show top n keywords for each topic\u001b[0m\u001b[1;33m\u001b[0m\u001b[1;33m\u001b[0m\u001b[0m\n\u001b[0;32m      3\u001b[0m \u001b[1;32mdef\u001b[0m \u001b[0mshow_topics\u001b[0m\u001b[1;33m(\u001b[0m\u001b[0mvectorizer\u001b[0m\u001b[1;33m,\u001b[0m \u001b[0mlda_model\u001b[0m\u001b[1;33m,\u001b[0m \u001b[0mn_words\u001b[0m\u001b[1;33m=\u001b[0m\u001b[1;36m10\u001b[0m\u001b[1;33m)\u001b[0m\u001b[1;33m:\u001b[0m\u001b[1;33m\u001b[0m\u001b[0m\n\u001b[1;32m----> 4\u001b[1;33m     \u001b[0mkeywords\u001b[0m \u001b[1;33m=\u001b[0m \u001b[0mnp\u001b[0m\u001b[1;33m.\u001b[0m\u001b[0marray\u001b[0m\u001b[1;33m(\u001b[0m\u001b[0mvectorizer\u001b[0m\u001b[1;33m.\u001b[0m\u001b[0mget_feature_names\u001b[0m\u001b[1;33m(\u001b[0m\u001b[1;33m)\u001b[0m\u001b[1;33m)\u001b[0m\u001b[1;33m\u001b[0m\u001b[0m\n\u001b[0m\u001b[0;32m      5\u001b[0m     \u001b[0mtopic_keywords\u001b[0m \u001b[1;33m=\u001b[0m \u001b[1;33m[\u001b[0m\u001b[1;33m]\u001b[0m\u001b[1;33m\u001b[0m\u001b[0m\n\u001b[0;32m      6\u001b[0m     \u001b[1;32mfor\u001b[0m \u001b[0mtopic_weights\u001b[0m \u001b[1;32min\u001b[0m \u001b[0mlda_model\u001b[0m\u001b[1;33m.\u001b[0m\u001b[0mcomponents_\u001b[0m\u001b[1;33m:\u001b[0m\u001b[1;33m\u001b[0m\u001b[0m\n",
      "\u001b[1;31mAttributeError\u001b[0m: 'list' object has no attribute 'get_feature_names'"
     ]
    }
   ],
   "source": [
    "import numpy as np\n",
    "# Show top n keywords for each topic\n",
    "def show_topics(vectorizer, lda_model, n_words=10):\n",
    "    keywords = np.array(vectorizer.get_feature_names())\n",
    "    topic_keywords = []\n",
    "    for topic_weights in lda_model.components_:\n",
    "        top_keyword_locs = (-topic_weights).argsort()[:n_words]\n",
    "        topic_keywords.append(keywords.take(top_keyword_locs))\n",
    "    return topic_keywords\n",
    "\n",
    "topic_keywords = show_topics(vectorizer=doc_term_matrix, lda_model=model, n_words=10)        \n",
    "\n",
    "# Topic - Keywords Dataframe\n",
    "df_topic_keywords = pd.DataFrame(topic_keywords)\n",
    "df_topic_keywords.columns = ['Word '+str(i) for i in range(df_topic_keywords.shape[1])]\n",
    "df_topic_keywords.index = ['Topic '+str(i) for i in range(df_topic_keywords.shape[0])]\n",
    "df_topic_keywords"
   ]
  },
  {
   "cell_type": "code",
   "execution_count": null,
   "metadata": {
    "collapsed": true
   },
   "outputs": [],
   "source": []
  }
 ],
 "metadata": {
  "kernelspec": {
   "display_name": "Python 3",
   "language": "python",
   "name": "python3"
  },
  "language_info": {
   "codemirror_mode": {
    "name": "ipython",
    "version": 3
   },
   "file_extension": ".py",
   "mimetype": "text/x-python",
   "name": "python",
   "nbconvert_exporter": "python",
   "pygments_lexer": "ipython3",
   "version": "3.6.3"
  }
 },
 "nbformat": 4,
 "nbformat_minor": 1
}
