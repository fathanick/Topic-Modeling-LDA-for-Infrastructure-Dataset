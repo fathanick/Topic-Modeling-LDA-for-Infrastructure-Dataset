{
 "cells": [
  {
   "cell_type": "code",
   "execution_count": 1,
   "metadata": {
    "collapsed": true
   },
   "outputs": [],
   "source": [
    "import newspaper\n",
    "from newspaper import Article "
   ]
  },
  {
   "cell_type": "code",
   "execution_count": 2,
   "metadata": {
    "collapsed": true
   },
   "outputs": [],
   "source": [
    "urls = [\"http://id.beritasatu.com/home/biayai-pembangunan-jalan-baru-tol-dan-jembatan/178885\",\n",
    "       \"http://www.beritasatu.com/satu/506680-oktober-tol-pemalangbatang-jalani-uji-kelayakan.html\",\n",
    "       \"http://www.beritasatu.com/ekonomi/499876-inovasi-alternatif-pendanaan-jasa-marga-bangun-tol-transjawa.html\",\n",
    "       \"http://www.beritasatu.com/megalopolis/500629-2-dari-6-ruas-jalan-tol-dalam-kota-akan-beroperasi-2019.html\",\n",
    "       \"http://www.beritasatu.com/galeri-foto/8656-pembangunan-jalan-layang-mrt-di-tb-simatupang.html\",\n",
    "       \"http://www.beritasatu.com/ekonomi/496192-jembatan-layang-marosbone-dibuka-sementara-untuk-memperlancar-mudik-lebaran-2018.html\",\n",
    "       \"http://www.beritasatu.com/investor/504600-putih-sari-program-padat-karya-infrastruktur-berdayakan-ekonomi-desa.html\",\n",
    "       \"http://www.beritasatu.com/nasional/494281-konektivitas-infrastruktur-jamin-kenyamanan-mudik.html\",\n",
    "       \"http://www.beritasatu.com/ekonomi/497854-kementerian-pupr-lanjutkan-pembangunan-jalan-wisata-mandeh.html\",\n",
    "       \"http://www.beritasatu.com/tajuk/5780-menjaga-proyek-infrastruktur.html\",\n",
    "       \"http://id.beritasatu.com/home/perbaikan-jalan-di-jalur-lrt-palembang-rampung-juli/177797\",\n",
    "       \"http://www.beritasatu.com/nasional/505146-pembebasan-lahan-tol-samarindabalikpapan-tersisa-5.html\",\n",
    "       \"http://www.beritasatu.com/nasional/477067-maret-pembangunan-jalan-tol-layang-makassar-dimulai.html\",\n",
    "       \"http://www.beritasatu.com/ekonomi/491156-kesiapan-jalan-layani-arus-mudik-di-pulau-jawa-tahun-2018-lebih-baik.html\",\n",
    "       \"http://www.beritasatu.com/nasional/492939-pemprov-anggarkan-rp-197-m-untuk-perbaikan-jalan-di-bengkulu-utara.html\",\n",
    "       \"http://www.beritasatu.com/megalopolis/500345-warga-terdampak-tol-cibitungcilincing-ikuti-sosialisasi.html\",\n",
    "       \"http://id.beritasatu.com/home/progres-konstruksi-tol-palindra-capai-98/177366\",\n",
    "       \"http://id.beritasatu.com/home/kulon-progo-prioritaskan-bangun-jalan-bedah-menoreh/178583\",\n",
    "       \"http://www.beritasatu.com/megalopolis/486494-tiga-tahun-pembangunan-waduk-rorotan-mangkrak.html\",\n",
    "       \"http://www.beritasatu.com/megalopolis/486653-sandiaga-instruksikan-pembangunan-waduk-rorotan-cakung-dituntaskan.html\",\n",
    "       \"http://www.beritasatu.com/galeri-foto/8853-pembangunan-plta-jatigede\",\n",
    "       \"http://www.beritasatu.com/nasional/491378-pembangunan-bandara-internasional-yogyakarta-masih-terkendala.html\",\n",
    "       \"http://www.beritasatu.com/nasional/494702-pembangunan-bandara-ahmad-yani-ganjar-minta-siapkan-rencana-b.html\",\n",
    "       \"http://www.beritasatu.com/nasional/482376-pembangunan-bandara-kediri-kemhub-tunggu-rekomendasi-pemda.html\",\n",
    "       \"http://www.beritasatu.com/nasional/490029-masyarakat-harapkan-bandara-bali-utara-segera-dibangun.html\",\n",
    "       \"http://www.beritasatu.tv/news/proyek-bandara-terus-dikebut/\",\n",
    "       \"http://www.beritasatu.com/nasional/487891-kecil-dampak-sosial-pembangunan-bandara-bali-utara-di-laut.html\",\n",
    "       \"http://www.beritasatu.com/nasional/504418-pemerintah-revisi-target-jalur-ka.html\",\n",
    "       \"http://www.beritasatu.com/nasional/485832-kai-harapkan-pembangunan-krl-solojogja-terealisir.html\",\n",
    "       \"http://www.beritasatu.com/megalopolis/486200-jalur-kereta-api-layang-siap-beroperasi-tahun-2020.html\",\n",
    "       \"http://id.beritasatu.com/home/bappenas-dorong-pembangunan-angkutan-umum-berbasis-rel/170827\",\n",
    "       \"http://id.beritasatu.com/telecommunication/rudiantara-pemerintah-bangun-infrastruktur-internet-berkecepatan-tinggi/178327\",\n",
    "       \"http://id.beritasatu.com/home/connectivity-dan-internet-services-dengan-berbagai-keunggulan/178668\",\n",
    "       \"http://id.beritasatu.com/home/pembangunan-infrastruktur-bakal-perkuat-konektivitas/179358\",\n",
    "       \"http://id.beritasatu.com/telecommunication/pemerintah-percepat-pembangunan-infrastruktur-broadband/172226\",\n",
    "       \"http://www.beritasatu.com/iptek/413425-2019-seluruh-indonesia-terhubung-internet.html\",\n",
    "       \"http://id.beritasatu.com/home/anggaran-infrastruktur/179342\",\n",
    "       \"http://id.beritasatu.com/home/biaya-infrastruktur-dan-kebijakan-jadi-isu-konferensi-iot/163684\",\n",
    "       \"http://sp.beritasatu.com/home/kementerian-pupr-percepatan-pekerjaan-jembatan-musi-iv/125797\",\n",
    "       \"http://www.beritasatu.com/nasional/492939-pemprov-anggarkan-rp-197-m-untuk-perbaikan-jalan-di-bengkulu-utara.html\",\n",
    "       \"http://id.beritasatu.com/home/progres-konstruksi-jembatan-musi-iv-capai-90/179570\",\n",
    "       \"http://www.beritasatu.com/nasional/479503-pemerintah-evaluasi-struktur-layang-proyek-infrastruktur.html\",\n",
    "       \"http://www.beritasatu.com/nasional/494281-konektivitas-infrastruktur-jamin-kenyamanan-mudik.html\"]"
   ]
  },
  {
   "cell_type": "code",
   "execution_count": 3,
   "metadata": {
    "collapsed": true
   },
   "outputs": [],
   "source": [
    "for url in urls:\n",
    "    article = Article(url)\n",
    "    article.download()\n",
    "    article.parse()\n",
    "    with open(\"news.txt\",\"a+\") as f:\n",
    "        txt = article.text\n",
    "        txt = txt.encode('ascii', 'ignore').decode(\"utf-8\")\n",
    "        f.write(txt + \"\\n\\n\")\n",
    "        f.close()"
   ]
  },
  {
   "cell_type": "code",
   "execution_count": null,
   "metadata": {
    "collapsed": true
   },
   "outputs": [],
   "source": []
  }
 ],
 "metadata": {
  "kernelspec": {
   "display_name": "Python 3",
   "language": "python",
   "name": "python3"
  },
  "language_info": {
   "codemirror_mode": {
    "name": "ipython",
    "version": 3
   },
   "file_extension": ".py",
   "mimetype": "text/x-python",
   "name": "python",
   "nbconvert_exporter": "python",
   "pygments_lexer": "ipython3",
   "version": "3.6.3"
  }
 },
 "nbformat": 4,
 "nbformat_minor": 2
}
